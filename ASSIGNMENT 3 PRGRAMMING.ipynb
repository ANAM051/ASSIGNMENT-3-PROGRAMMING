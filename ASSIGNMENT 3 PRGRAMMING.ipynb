{
 "cells": [
  {
   "cell_type": "code",
   "execution_count": 7,
   "id": "b4706409",
   "metadata": {},
   "outputs": [
    {
     "name": "stdout",
     "output_type": "stream",
     "text": [
      "numer is negative\n"
     ]
    }
   ],
   "source": [
    "#1. Write a Python Program to Check if a Number is Positive, Negative or Zero?\n",
    "number = -5\n",
    "if number>0:\n",
    " print (\"number is positive \")\n",
    "elif number == 0:\n",
    "    print (\"number is zero\")\n",
    "else :\n",
    " print (\"numer is negative\")"
   ]
  },
  {
   "cell_type": "code",
   "execution_count": 8,
   "id": "6439427d",
   "metadata": {},
   "outputs": [
    {
     "name": "stdout",
     "output_type": "stream",
     "text": [
      "number is positive \n"
     ]
    }
   ],
   "source": [
    "number = 7\n",
    "if number>0:\n",
    " print (\"number is positive \")\n",
    "elif number == 0:\n",
    "    print (\"number is zero\")\n",
    "else :\n",
    " print (\"numer is negative\")"
   ]
  },
  {
   "cell_type": "code",
   "execution_count": 9,
   "id": "e94914ff",
   "metadata": {},
   "outputs": [
    {
     "name": "stdout",
     "output_type": "stream",
     "text": [
      "number is zero\n"
     ]
    }
   ],
   "source": [
    "number = 0\n",
    "if number>0:\n",
    " print (\"number is positive \")\n",
    "elif number == 0:\n",
    "    print (\"number is zero\")\n",
    "else :\n",
    " print (\"numer is negative\")"
   ]
  },
  {
   "cell_type": "code",
   "execution_count": 18,
   "id": "104b5753",
   "metadata": {},
   "outputs": [
    {
     "name": "stdout",
     "output_type": "stream",
     "text": [
      "number is odd\n"
     ]
    }
   ],
   "source": [
    "#2. Write a Python Program to Check if a Number is Odd or Even?\n",
    "number = 5\n",
    "if number%2 == 0:\n",
    "    print(\"number is even\")\n",
    "else :\n",
    "    print(\"number is odd\")"
   ]
  },
  {
   "cell_type": "code",
   "execution_count": 17,
   "id": "f370655b",
   "metadata": {},
   "outputs": [
    {
     "name": "stdout",
     "output_type": "stream",
     "text": [
      "number is even\n"
     ]
    }
   ],
   "source": [
    "num = 8\n",
    "if num%2 == 0:\n",
    "    print(\"number is even\")\n",
    "else :\n",
    "    print(\"number is odd\")"
   ]
  },
  {
   "cell_type": "code",
   "execution_count": 1,
   "id": "64c5197d",
   "metadata": {},
   "outputs": [
    {
     "name": "stdout",
     "output_type": "stream",
     "text": [
      "The year is :2023\n",
      "2023 it is not a leap year\n"
     ]
    }
   ],
   "source": [
    "#3. Write a Python Program to Check Leap Year?\n",
    "year = int(input(\"The year is :\"))\n",
    "if year % 4 == 0:\n",
    "    print (year, \"it is a leap year\")\n",
    "else :\n",
    "    print(year, \"it is not a leap year\")\n"
   ]
  },
  {
   "cell_type": "code",
   "execution_count": 2,
   "id": "e382ad9e",
   "metadata": {},
   "outputs": [],
   "source": [
    "#4. Write a Python Program to Check Prime Number?\n",
    "num = 2\n",
    "if num > 1:\n",
    "    for i in range (2 , num):\n",
    "        if (num % i) == 0:\n",
    "            print(num , \"is not a prime number\")\n",
    "            break\n",
    "        else:\n",
    "            print (num, \" is a prime number\")\n",
    "else:\n",
    "    print(num, \" is not a prime number\")"
   ]
  },
  {
   "cell_type": "code",
   "execution_count": 19,
   "id": "db244733",
   "metadata": {},
   "outputs": [],
   "source": [
    "#5. Write a Python Program to Print all Prime Numbers in an Interval of 1-10000?\n"
   ]
  },
  {
   "cell_type": "code",
   "execution_count": null,
   "id": "281a46c1",
   "metadata": {},
   "outputs": [],
   "source": []
  },
  {
   "cell_type": "code",
   "execution_count": null,
   "id": "2f0bfd64",
   "metadata": {},
   "outputs": [],
   "source": []
  }
 ],
 "metadata": {
  "kernelspec": {
   "display_name": "Python 3 (ipykernel)",
   "language": "python",
   "name": "python3"
  },
  "language_info": {
   "codemirror_mode": {
    "name": "ipython",
    "version": 3
   },
   "file_extension": ".py",
   "mimetype": "text/x-python",
   "name": "python",
   "nbconvert_exporter": "python",
   "pygments_lexer": "ipython3",
   "version": "3.9.12"
  }
 },
 "nbformat": 4,
 "nbformat_minor": 5
}
